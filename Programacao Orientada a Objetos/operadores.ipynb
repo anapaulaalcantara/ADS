{
 "cells": [
  {
   "cell_type": "code",
   "execution_count": 1,
   "metadata": {},
   "outputs": [],
   "source": [
    "# Operadores aritméticos -> int, float\n",
    "a = 10\n",
    "b = 5\n",
    "\n",
    "soma = a + b  # Soma\n",
    "subtracao = a - b  # Subtração\n",
    "multiplicacao = a * b  # Multiplicação\n",
    "divisao = a / b  # Divisão\n",
    "resto = a % b  # Resto da divisão\n",
    "potencia = a ** b  # Potência"
   ]
  },
  {
   "cell_type": "code",
   "execution_count": null,
   "metadata": {},
   "outputs": [],
   "source": [
    "# Ooperadores de comparação/relacional -> Bool\n",
    "x = 10\n",
    "y = 5\n",
    "\n",
    "igual = x == y  # Igual a -> Bool\n",
    "diferente = x != y  # Diferente de -> Bool\n",
    "maior = x > y  # Maior que -> Bool\n",
    "menor = x < y  # Menor que -> Bool\n",
    "maior_ou_igual = x >= y  # Maior ou igual a -> Bool\n",
    "menor_ou_igual = x <= y  # Menor ou igual a -> Bool"
   ]
  },
  {
   "cell_type": "code",
   "execution_count": 2,
   "metadata": {},
   "outputs": [
    {
     "name": "stdout",
     "output_type": "stream",
     "text": [
      "False\n",
      "True\n",
      "False\n"
     ]
    }
   ],
   "source": [
    "# Operadores lógicos  -> Bool\n",
    "a = True\n",
    "b = False\n",
    "\n",
    "e = a and b  # E lógico -> Bool\n",
    "ou = a or b  # Ou lógico -> Bool\n",
    "nao = not a  # Negação lógica -> Bool\n",
    "\n",
    "print(e)\n",
    "print(ou)\n",
    "print(nao)"
   ]
  },
  {
   "cell_type": "code",
   "execution_count": 5,
   "metadata": {},
   "outputs": [
    {
     "name": "stdout",
     "output_type": "stream",
     "text": [
      "15\n",
      "12\n",
      "24\n",
      "6.0\n"
     ]
    }
   ],
   "source": [
    "# Operadores de atribuição -> int, float (incremeto, decremento)\n",
    "\n",
    "x = 10\n",
    "x += 5  # x = x + 5\n",
    "print(x)\n",
    "x -= 3  # x = x - 3\n",
    "print(x)\n",
    "x *= 2  # x = x * 2\n",
    "print(x)\n",
    "x /= 4  # x = x / 4\n",
    "print(x)"
   ]
  },
  {
   "cell_type": "code",
   "execution_count": 6,
   "metadata": {},
   "outputs": [
    {
     "name": "stdout",
     "output_type": "stream",
     "text": [
      "False\n",
      "True\n"
     ]
    }
   ],
   "source": [
    "# Operadores de identidade -> bool\n",
    "# Verifica se são o mesmo objeto\n",
    "\n",
    "a = [1, 2, 3]\n",
    "b = [1, 2, 3]\n",
    "\n",
    "mesmo_objeto = a is b  # Verifica se a e b referem-se ao mesmo objeto\n",
    "diferente_objeto = a is not b  # Verifica se a e b não referem-se ao mesmo objeto\n",
    "\n",
    "print(mesmo_objeto)\n",
    "print(diferente_objeto)"
   ]
  },
  {
   "cell_type": "code",
   "execution_count": 7,
   "metadata": {},
   "outputs": [
    {
     "name": "stdout",
     "output_type": "stream",
     "text": [
      "True\n",
      "True\n"
     ]
    }
   ],
   "source": [
    "# Operadores de associação em membros -> bool\n",
    "# Verifica se está na lista \n",
    "lista = [1, 2, 3, 4, 5]\n",
    "\n",
    "esta_na_lista = 3 in lista  # Verifica se 3 está na lista\n",
    "nao_esta_na_lista = 6 not in lista  # Verifica se 6 não está na lista\n",
    "\n",
    "print(esta_na_lista)\n",
    "print(nao_esta_na_lista)"
   ]
  }
 ],
 "metadata": {
  "kernelspec": {
   "display_name": "Python 3",
   "language": "python",
   "name": "python3"
  },
  "language_info": {
   "codemirror_mode": {
    "name": "ipython",
    "version": 3
   },
   "file_extension": ".py",
   "mimetype": "text/x-python",
   "name": "python",
   "nbconvert_exporter": "python",
   "pygments_lexer": "ipython3",
   "version": "3.12.0"
  }
 },
 "nbformat": 4,
 "nbformat_minor": 2
}
